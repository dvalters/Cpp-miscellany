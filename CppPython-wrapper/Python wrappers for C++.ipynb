{
 "cells": [
  {
   "cell_type": "markdown",
   "metadata": {},
   "source": [
    "## Writing a simple Python wrapper for C++\n",
    "\n",
    "I wanted to write what is essentially a wrapper function for some C++ code. Looking around the web turned up some results on Python's ctype utility (native to Python), the Boost::Python C++ libraries, and the Cython package, which provides C-like functionality to Python. I went with Cython in the end due to limtations with ctypes and warnings about `magic` in the boost library. \n",
    "\n",
    "The Cython approach also is completely non-interfeing with the C++ code -- i.e. you don't have to go messing with your C++ source files or wrapping them in ``extern \"C\" { }``-type braces, like you do in ctype, and strikes me as a awkward to go around modifying your C++ code.\n",
    "\n",
    "You need to have the Cython and distutils modules installed with your Python distribution for this. Examples here use Python 2.7, but there's no reason I know of why Python 3.x won't work either.\n",
    "\n",
    "### The C++ program\n",
    "\n",
    "For this example, I'm using a little C++ program called `Rectangle.cpp` which just calculates the area of a rectangle from a Rectangle object. The example is basically lifted from the Cython docs, but the explanation is padded out a bit more with working scripts and source files. (Unlike the cython.org example which I found almost impossible to understand)\n",
    "\n",
    "### Rectangle.cpp"
   ]
  },
  {
   "cell_type": "raw",
   "metadata": {},
   "source": [
    "#include \"Rectangle.hpp\"\n",
    "\n",
    "namespace shapes {\n",
    "\n",
    "    Rectangle::Rectangle(int X0, int Y0, int X1, int Y1) {\n",
    "        x0 = X0;\n",
    "        y0 = Y0;\n",
    "        x1 = X1;\n",
    "        y1 = Y1;\n",
    "    }\n",
    "\n",
    "    Rectangle::~Rectangle() { }\n",
    "\n",
    "    int Rectangle::getLength() {\n",
    "        return (x1 - x0);\n",
    "    }\n",
    "\n",
    "    int Rectangle::getHeight() {\n",
    "        return (y1 - y0);\n",
    "    }\n",
    "\n",
    "    int Rectangle::getArea() {\n",
    "        return (x1 - x0) * (y1 - y0);\n",
    "    }\n",
    "\n",
    "    void Rectangle::move(int dx, int dy) {\n",
    "        x0 += dx;\n",
    "        y0 += dy;\n",
    "        x1 += dx;\n",
    "        y1 += dy;\n",
    "    }\n",
    "\n",
    "}"
   ]
  },
  {
   "cell_type": "markdown",
   "metadata": {},
   "source": [
    "### Rectangle.hpp"
   ]
  },
  {
   "cell_type": "raw",
   "metadata": {},
   "source": [
    "namespace shapes {\n",
    "    class Rectangle {\n",
    "    public:\n",
    "        int x0, y0, x1, y1;\n",
    "        Rectangle(int x0, int y0, int x1, int y1);\n",
    "        ~Rectangle();\n",
    "        int getLength();\n",
    "        int getHeight();\n",
    "        int getArea();\n",
    "        void move(int dx, int dy);\n",
    "    };\n",
    "}"
   ]
  },
  {
   "cell_type": "markdown",
   "metadata": {},
   "source": [
    "### The Python (and Cython) files\n",
    "\n",
    "From the python side of things, you'll need 3 files for this set up:\n",
    "\n",
    "1. The `rectangle_wrapper.pyx` cython file.\n",
    "2. The `setup.py` file.\n",
    "3. For testing purposes, the `test.py` file.\n",
    "\n",
    "The Cython file `rectangle_wrapper.pyx` is the Cython code. Cython code means C-like code written directly in a Python-like syntax. For this purpose, it is the glue between our C++ source code and our Python script which we wantto use to call the C++ functions. The Cython file is a go-between for Python and C++.\n",
    "\n",
    "The `setup.py` file will handle the compilation of our C++ and Cython code (no makefiles here!). It will build us a .cpp file from the Cython file, and a shared library file that we can `import` into python scripts."
   ]
  },
  {
   "cell_type": "markdown",
   "metadata": {},
   "source": [
    "### rectangle_wrapper.pyx\n",
    "\n",
    "This is a Cython file and extracts the relevant classes from the C++ header file. "
   ]
  },
  {
   "cell_type": "code",
   "execution_count": null,
   "metadata": {
    "collapsed": false
   },
   "outputs": [],
   "source": [
    "# distutils: language = c++\n",
    "# distutils: sources = rectangle.cpp\n",
    "\n",
    "cdef extern from \"Rectangle.hpp\" namespace \"shapes\":\n",
    "    cdef cppclass Rectangle:\n",
    "        Rectangle(int, int, int, int)\n",
    "        int x0, y0, x1, y1\n",
    "        int getLength()\n",
    "        int getHeight()\n",
    "        int getArea()\n",
    "        void move(int, int)\n",
    "\n",
    "cdef class PyRectangle:\n",
    "    cdef Rectangle *thisptr      # hold a C++ instance which we're wrapping\n",
    "    def __cinit__(self, int x0, int y0, int x1, int y1):\n",
    "        self.thisptr = new Rectangle(x0, y0, x1, y1)\n",
    "    def __dealloc__(self):\n",
    "        del self.thisptr\n",
    "    def getLength(self):\n",
    "        return self.thisptr.getLength()\n",
    "    def getHeight(self):\n",
    "        return self.thisptr.getHeight()\n",
    "    def getArea(self):\n",
    "        return self.thisptr.getArea()\n",
    "    def move(self, dx, dy):\n",
    "        self.thisptr.move(dx, dy)"
   ]
  },
  {
   "cell_type": "markdown",
   "metadata": {},
   "source": [
    "### setup.py"
   ]
  },
  {
   "cell_type": "code",
   "execution_count": null,
   "metadata": {
    "collapsed": true
   },
   "outputs": [],
   "source": [
    "from distutils.core import setup\n",
    "from distutils.extension import Extension\n",
    "from Cython.Distutils import build_ext\n",
    "\n",
    "setup(ext_modules=[Extension(\"rectangle_wrapper\", \n",
    "                             [\"rectangle_wrapper.pyx\", \n",
    "                              \"Rectangle.cpp\"], language=\"c++\",)],\n",
    "      cmdclass = {'build_ext': build_ext})"
   ]
  },
  {
   "cell_type": "markdown",
   "metadata": {},
   "source": [
    "You now have all the files needed to build the module. You can build everything using the `setup.py` script by doing:"
   ]
  },
  {
   "cell_type": "raw",
   "metadata": {},
   "source": [
    "python setup.py build_ext --inplace"
   ]
  },
  {
   "cell_type": "markdown",
   "metadata": {},
   "source": [
    "This generates two extra files: the .cpp source code file and the linked library file (`.so` in linux.) You can now run the test.py file below or experiment with the module in an interactive console. Note that this does not install the module into your python installation directory -- you need to run the script from the same directory as your linked library files, or add the directory to the pythonpath."
   ]
  },
  {
   "cell_type": "markdown",
   "metadata": {},
   "source": [
    "### test.py\n",
    "\n",
    "Note how you can just import the new library like a python module. The syntax in the Cython file has given us an easy to use python interface to our C++ Rectangle class."
   ]
  },
  {
   "cell_type": "code",
   "execution_count": 2,
   "metadata": {
    "collapsed": false
   },
   "outputs": [
    {
     "name": "stdout",
     "output_type": "stream",
     "text": [
      "4\n",
      "4\n",
      "16\n"
     ]
    }
   ],
   "source": [
    "import rectangle_wrapper\n",
    "\n",
    "# initialise a rectangle object with x0, y0, x1, y1 coords\n",
    "my_rectangle = rectangle_wrapper.PyRectangle(2,4,6,8)\n",
    "\n",
    "print my_rectangle.getLength()\n",
    "print my_rectangle.getHeight()\n",
    "print my_rectangle.getArea()"
   ]
  },
  {
   "cell_type": "code",
   "execution_count": null,
   "metadata": {
    "collapsed": true
   },
   "outputs": [],
   "source": []
  }
 ],
 "metadata": {
  "kernelspec": {
   "display_name": "Python 2",
   "language": "python",
   "name": "python2"
  },
  "language_info": {
   "codemirror_mode": {
    "name": "ipython",
    "version": 2
   },
   "file_extension": ".py",
   "mimetype": "text/x-python",
   "name": "python",
   "nbconvert_exporter": "python",
   "pygments_lexer": "ipython2",
   "version": "2.7.10"
  }
 },
 "nbformat": 4,
 "nbformat_minor": 0
}
